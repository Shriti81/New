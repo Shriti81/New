{
 "cells": [
  {
   "cell_type": "code",
   "execution_count": 1,
   "id": "8f1ddaa0",
   "metadata": {
    "_cell_guid": "b1076dfc-b9ad-4769-8c92-a6c4dae69d19",
    "_uuid": "8f2839f25d086af736a60e9eeb907d3b93b6e0e5",
    "execution": {
     "iopub.execute_input": "2024-03-31T18:52:29.938586Z",
     "iopub.status.busy": "2024-03-31T18:52:29.937548Z",
     "iopub.status.idle": "2024-03-31T18:52:30.934172Z",
     "shell.execute_reply": "2024-03-31T18:52:30.933073Z"
    },
    "papermill": {
     "duration": 1.011246,
     "end_time": "2024-03-31T18:52:30.937153",
     "exception": false,
     "start_time": "2024-03-31T18:52:29.925907",
     "status": "completed"
    },
    "tags": []
   },
   "outputs": [
    {
     "name": "stdout",
     "output_type": "stream",
     "text": [
      "/kaggle/input/creditcard-fraud-detection/creditcard.csv\n"
     ]
    }
   ],
   "source": [
    "# This Python 3 environment comes with many helpful analytics libraries installed\n",
    "# It is defined by the kaggle/python Docker image: https://github.com/kaggle/docker-python\n",
    "# For example, here's several helpful packages to load\n",
    "\n",
    "import numpy as np # linear algebra\n",
    "import pandas as pd # data processing, CSV file I/O (e.g. pd.read_csv)\n",
    "\n",
    "# Input data files are available in the read-only \"../input/\" directory\n",
    "# For example, running this (by clicking run or pressing Shift+Enter) will list all files under the input directory\n",
    "\n",
    "import os\n",
    "for dirname, _, filenames in os.walk('/kaggle/input'):\n",
    "    for filename in filenames:\n",
    "        print(os.path.join(dirname, filename))\n",
    "\n",
    "# You can write up to 20GB to the current directory (/kaggle/working/) that gets preserved as output when you create a version using \"Save & Run All\" \n",
    "# You can also write temporary files to /kaggle/temp/, but they won't be saved outside of the current session"
   ]
  },
  {
   "cell_type": "code",
   "execution_count": 2,
   "id": "51b0a2bf",
   "metadata": {
    "execution": {
     "iopub.execute_input": "2024-03-31T18:52:30.956648Z",
     "iopub.status.busy": "2024-03-31T18:52:30.956140Z",
     "iopub.status.idle": "2024-03-31T18:52:35.862452Z",
     "shell.execute_reply": "2024-03-31T18:52:35.860795Z"
    },
    "papermill": {
     "duration": 4.919947,
     "end_time": "2024-03-31T18:52:35.865709",
     "exception": false,
     "start_time": "2024-03-31T18:52:30.945762",
     "status": "completed"
    },
    "tags": []
   },
   "outputs": [],
   "source": [
    "df = pd.read_csv('/kaggle/input/creditcard-fraud-detection/creditcard.csv')"
   ]
  },
  {
   "cell_type": "code",
   "execution_count": 3,
   "id": "8bd6b758",
   "metadata": {
    "execution": {
     "iopub.execute_input": "2024-03-31T18:52:35.884316Z",
     "iopub.status.busy": "2024-03-31T18:52:35.883859Z",
     "iopub.status.idle": "2024-03-31T18:52:35.943066Z",
     "shell.execute_reply": "2024-03-31T18:52:35.941551Z"
    },
    "papermill": {
     "duration": 0.071789,
     "end_time": "2024-03-31T18:52:35.945861",
     "exception": false,
     "start_time": "2024-03-31T18:52:35.874072",
     "status": "completed"
    },
    "tags": []
   },
   "outputs": [
    {
     "data": {
      "text/html": [
       "<div>\n",
       "<style scoped>\n",
       "    .dataframe tbody tr th:only-of-type {\n",
       "        vertical-align: middle;\n",
       "    }\n",
       "\n",
       "    .dataframe tbody tr th {\n",
       "        vertical-align: top;\n",
       "    }\n",
       "\n",
       "    .dataframe thead th {\n",
       "        text-align: right;\n",
       "    }\n",
       "</style>\n",
       "<table border=\"1\" class=\"dataframe\">\n",
       "  <thead>\n",
       "    <tr style=\"text-align: right;\">\n",
       "      <th></th>\n",
       "      <th>Time</th>\n",
       "      <th>V1</th>\n",
       "      <th>V2</th>\n",
       "      <th>V3</th>\n",
       "      <th>V4</th>\n",
       "      <th>V5</th>\n",
       "      <th>V6</th>\n",
       "      <th>V7</th>\n",
       "      <th>V8</th>\n",
       "      <th>V9</th>\n",
       "      <th>...</th>\n",
       "      <th>V21</th>\n",
       "      <th>V22</th>\n",
       "      <th>V23</th>\n",
       "      <th>V24</th>\n",
       "      <th>V25</th>\n",
       "      <th>V26</th>\n",
       "      <th>V27</th>\n",
       "      <th>V28</th>\n",
       "      <th>Amount</th>\n",
       "      <th>Class</th>\n",
       "    </tr>\n",
       "  </thead>\n",
       "  <tbody>\n",
       "    <tr>\n",
       "      <th>112610</th>\n",
       "      <td>72725.0</td>\n",
       "      <td>-3.048164</td>\n",
       "      <td>2.152980</td>\n",
       "      <td>1.138643</td>\n",
       "      <td>0.597742</td>\n",
       "      <td>-1.264251</td>\n",
       "      <td>-0.369244</td>\n",
       "      <td>0.014636</td>\n",
       "      <td>-0.243249</td>\n",
       "      <td>1.193861</td>\n",
       "      <td>...</td>\n",
       "      <td>0.457391</td>\n",
       "      <td>0.840558</td>\n",
       "      <td>-0.008559</td>\n",
       "      <td>0.976542</td>\n",
       "      <td>0.099130</td>\n",
       "      <td>-0.502185</td>\n",
       "      <td>-2.303547</td>\n",
       "      <td>0.249921</td>\n",
       "      <td>30.13</td>\n",
       "      <td>0</td>\n",
       "    </tr>\n",
       "    <tr>\n",
       "      <th>191113</th>\n",
       "      <td>129118.0</td>\n",
       "      <td>-0.671633</td>\n",
       "      <td>-0.863743</td>\n",
       "      <td>-0.817516</td>\n",
       "      <td>-4.384542</td>\n",
       "      <td>0.779891</td>\n",
       "      <td>-1.819810</td>\n",
       "      <td>0.923591</td>\n",
       "      <td>-0.313369</td>\n",
       "      <td>0.335572</td>\n",
       "      <td>...</td>\n",
       "      <td>-0.068533</td>\n",
       "      <td>0.178573</td>\n",
       "      <td>0.155747</td>\n",
       "      <td>0.560628</td>\n",
       "      <td>-0.060437</td>\n",
       "      <td>-1.037786</td>\n",
       "      <td>0.412462</td>\n",
       "      <td>0.290372</td>\n",
       "      <td>94.98</td>\n",
       "      <td>0</td>\n",
       "    </tr>\n",
       "    <tr>\n",
       "      <th>68624</th>\n",
       "      <td>53069.0</td>\n",
       "      <td>1.259999</td>\n",
       "      <td>0.273125</td>\n",
       "      <td>0.034910</td>\n",
       "      <td>0.417864</td>\n",
       "      <td>0.009171</td>\n",
       "      <td>-0.357316</td>\n",
       "      <td>-0.038469</td>\n",
       "      <td>-0.005541</td>\n",
       "      <td>-0.160566</td>\n",
       "      <td>...</td>\n",
       "      <td>-0.282083</td>\n",
       "      <td>-0.855232</td>\n",
       "      <td>0.032608</td>\n",
       "      <td>-0.400723</td>\n",
       "      <td>0.273107</td>\n",
       "      <td>0.119959</td>\n",
       "      <td>-0.028809</td>\n",
       "      <td>0.013547</td>\n",
       "      <td>2.69</td>\n",
       "      <td>0</td>\n",
       "    </tr>\n",
       "    <tr>\n",
       "      <th>156246</th>\n",
       "      <td>107637.0</td>\n",
       "      <td>1.984591</td>\n",
       "      <td>-0.184305</td>\n",
       "      <td>-0.153722</td>\n",
       "      <td>0.558171</td>\n",
       "      <td>-0.679554</td>\n",
       "      <td>-0.807009</td>\n",
       "      <td>-0.544798</td>\n",
       "      <td>-0.171060</td>\n",
       "      <td>2.655942</td>\n",
       "      <td>...</td>\n",
       "      <td>-0.267096</td>\n",
       "      <td>-0.415068</td>\n",
       "      <td>0.363027</td>\n",
       "      <td>-0.082181</td>\n",
       "      <td>-0.405155</td>\n",
       "      <td>-0.965107</td>\n",
       "      <td>0.029077</td>\n",
       "      <td>-0.032452</td>\n",
       "      <td>9.39</td>\n",
       "      <td>0</td>\n",
       "    </tr>\n",
       "    <tr>\n",
       "      <th>93131</th>\n",
       "      <td>64264.0</td>\n",
       "      <td>0.793066</td>\n",
       "      <td>-0.686883</td>\n",
       "      <td>-0.490161</td>\n",
       "      <td>0.187095</td>\n",
       "      <td>-0.439466</td>\n",
       "      <td>-1.013930</td>\n",
       "      <td>0.623032</td>\n",
       "      <td>-0.278611</td>\n",
       "      <td>-0.339966</td>\n",
       "      <td>...</td>\n",
       "      <td>0.148569</td>\n",
       "      <td>-0.186996</td>\n",
       "      <td>-0.312171</td>\n",
       "      <td>0.419840</td>\n",
       "      <td>0.406936</td>\n",
       "      <td>1.028070</td>\n",
       "      <td>-0.169216</td>\n",
       "      <td>0.023286</td>\n",
       "      <td>259.00</td>\n",
       "      <td>0</td>\n",
       "    </tr>\n",
       "  </tbody>\n",
       "</table>\n",
       "<p>5 rows × 31 columns</p>\n",
       "</div>"
      ],
      "text/plain": [
       "            Time        V1        V2        V3        V4        V5        V6  \\\n",
       "112610   72725.0 -3.048164  2.152980  1.138643  0.597742 -1.264251 -0.369244   \n",
       "191113  129118.0 -0.671633 -0.863743 -0.817516 -4.384542  0.779891 -1.819810   \n",
       "68624    53069.0  1.259999  0.273125  0.034910  0.417864  0.009171 -0.357316   \n",
       "156246  107637.0  1.984591 -0.184305 -0.153722  0.558171 -0.679554 -0.807009   \n",
       "93131    64264.0  0.793066 -0.686883 -0.490161  0.187095 -0.439466 -1.013930   \n",
       "\n",
       "              V7        V8        V9  ...       V21       V22       V23  \\\n",
       "112610  0.014636 -0.243249  1.193861  ...  0.457391  0.840558 -0.008559   \n",
       "191113  0.923591 -0.313369  0.335572  ... -0.068533  0.178573  0.155747   \n",
       "68624  -0.038469 -0.005541 -0.160566  ... -0.282083 -0.855232  0.032608   \n",
       "156246 -0.544798 -0.171060  2.655942  ... -0.267096 -0.415068  0.363027   \n",
       "93131   0.623032 -0.278611 -0.339966  ...  0.148569 -0.186996 -0.312171   \n",
       "\n",
       "             V24       V25       V26       V27       V28  Amount  Class  \n",
       "112610  0.976542  0.099130 -0.502185 -2.303547  0.249921   30.13      0  \n",
       "191113  0.560628 -0.060437 -1.037786  0.412462  0.290372   94.98      0  \n",
       "68624  -0.400723  0.273107  0.119959 -0.028809  0.013547    2.69      0  \n",
       "156246 -0.082181 -0.405155 -0.965107  0.029077 -0.032452    9.39      0  \n",
       "93131   0.419840  0.406936  1.028070 -0.169216  0.023286  259.00      0  \n",
       "\n",
       "[5 rows x 31 columns]"
      ]
     },
     "execution_count": 3,
     "metadata": {},
     "output_type": "execute_result"
    }
   ],
   "source": [
    "df.sample(5)"
   ]
  },
  {
   "cell_type": "code",
   "execution_count": 4,
   "id": "acc36161",
   "metadata": {
    "execution": {
     "iopub.execute_input": "2024-03-31T18:52:35.966060Z",
     "iopub.status.busy": "2024-03-31T18:52:35.965470Z",
     "iopub.status.idle": "2024-03-31T18:52:37.964704Z",
     "shell.execute_reply": "2024-03-31T18:52:37.963239Z"
    },
    "papermill": {
     "duration": 2.012996,
     "end_time": "2024-03-31T18:52:37.967859",
     "exception": false,
     "start_time": "2024-03-31T18:52:35.954863",
     "status": "completed"
    },
    "tags": []
   },
   "outputs": [],
   "source": [
    "import matplotlib.pyplot as plt\n",
    "import seaborn as sns\n",
    "\n",
    "from sklearn.model_selection import train_test_split\n",
    "from sklearn.linear_model import LogisticRegression"
   ]
  },
  {
   "cell_type": "code",
   "execution_count": 5,
   "id": "6943d111",
   "metadata": {
    "execution": {
     "iopub.execute_input": "2024-03-31T18:52:37.988561Z",
     "iopub.status.busy": "2024-03-31T18:52:37.988067Z",
     "iopub.status.idle": "2024-03-31T18:52:37.996726Z",
     "shell.execute_reply": "2024-03-31T18:52:37.995230Z"
    },
    "papermill": {
     "duration": 0.022514,
     "end_time": "2024-03-31T18:52:37.999632",
     "exception": false,
     "start_time": "2024-03-31T18:52:37.977118",
     "status": "completed"
    },
    "tags": []
   },
   "outputs": [
    {
     "data": {
      "text/plain": [
       "(284807, 31)"
      ]
     },
     "execution_count": 5,
     "metadata": {},
     "output_type": "execute_result"
    }
   ],
   "source": [
    "df.shape"
   ]
  },
  {
   "cell_type": "code",
   "execution_count": 6,
   "id": "f3222ca0",
   "metadata": {
    "execution": {
     "iopub.execute_input": "2024-03-31T18:52:38.021420Z",
     "iopub.status.busy": "2024-03-31T18:52:38.020962Z",
     "iopub.status.idle": "2024-03-31T18:52:38.093672Z",
     "shell.execute_reply": "2024-03-31T18:52:38.092766Z"
    },
    "papermill": {
     "duration": 0.086351,
     "end_time": "2024-03-31T18:52:38.096415",
     "exception": false,
     "start_time": "2024-03-31T18:52:38.010064",
     "status": "completed"
    },
    "tags": []
   },
   "outputs": [
    {
     "data": {
      "text/html": [
       "<div>\n",
       "<style scoped>\n",
       "    .dataframe tbody tr th:only-of-type {\n",
       "        vertical-align: middle;\n",
       "    }\n",
       "\n",
       "    .dataframe tbody tr th {\n",
       "        vertical-align: top;\n",
       "    }\n",
       "\n",
       "    .dataframe thead th {\n",
       "        text-align: right;\n",
       "    }\n",
       "</style>\n",
       "<table border=\"1\" class=\"dataframe\">\n",
       "  <thead>\n",
       "    <tr style=\"text-align: right;\">\n",
       "      <th></th>\n",
       "      <th>Time</th>\n",
       "      <th>Amount</th>\n",
       "      <th>Class</th>\n",
       "    </tr>\n",
       "  </thead>\n",
       "  <tbody>\n",
       "    <tr>\n",
       "      <th>count</th>\n",
       "      <td>284807.000000</td>\n",
       "      <td>284807.000000</td>\n",
       "      <td>284807.000000</td>\n",
       "    </tr>\n",
       "    <tr>\n",
       "      <th>mean</th>\n",
       "      <td>94813.859575</td>\n",
       "      <td>88.349619</td>\n",
       "      <td>0.001727</td>\n",
       "    </tr>\n",
       "    <tr>\n",
       "      <th>std</th>\n",
       "      <td>47488.145955</td>\n",
       "      <td>250.120109</td>\n",
       "      <td>0.041527</td>\n",
       "    </tr>\n",
       "    <tr>\n",
       "      <th>min</th>\n",
       "      <td>0.000000</td>\n",
       "      <td>0.000000</td>\n",
       "      <td>0.000000</td>\n",
       "    </tr>\n",
       "    <tr>\n",
       "      <th>25%</th>\n",
       "      <td>54201.500000</td>\n",
       "      <td>5.600000</td>\n",
       "      <td>0.000000</td>\n",
       "    </tr>\n",
       "    <tr>\n",
       "      <th>50%</th>\n",
       "      <td>84692.000000</td>\n",
       "      <td>22.000000</td>\n",
       "      <td>0.000000</td>\n",
       "    </tr>\n",
       "    <tr>\n",
       "      <th>75%</th>\n",
       "      <td>139320.500000</td>\n",
       "      <td>77.165000</td>\n",
       "      <td>0.000000</td>\n",
       "    </tr>\n",
       "    <tr>\n",
       "      <th>max</th>\n",
       "      <td>172792.000000</td>\n",
       "      <td>25691.160000</td>\n",
       "      <td>1.000000</td>\n",
       "    </tr>\n",
       "  </tbody>\n",
       "</table>\n",
       "</div>"
      ],
      "text/plain": [
       "                Time         Amount          Class\n",
       "count  284807.000000  284807.000000  284807.000000\n",
       "mean    94813.859575      88.349619       0.001727\n",
       "std     47488.145955     250.120109       0.041527\n",
       "min         0.000000       0.000000       0.000000\n",
       "25%     54201.500000       5.600000       0.000000\n",
       "50%     84692.000000      22.000000       0.000000\n",
       "75%    139320.500000      77.165000       0.000000\n",
       "max    172792.000000   25691.160000       1.000000"
      ]
     },
     "execution_count": 6,
     "metadata": {},
     "output_type": "execute_result"
    }
   ],
   "source": [
    "df[['Time','Amount','Class']].describe()"
   ]
  },
  {
   "cell_type": "code",
   "execution_count": 7,
   "id": "8bf9c426",
   "metadata": {
    "execution": {
     "iopub.execute_input": "2024-03-31T18:52:38.118035Z",
     "iopub.status.busy": "2024-03-31T18:52:38.116722Z",
     "iopub.status.idle": "2024-03-31T18:52:38.142598Z",
     "shell.execute_reply": "2024-03-31T18:52:38.141358Z"
    },
    "papermill": {
     "duration": 0.039388,
     "end_time": "2024-03-31T18:52:38.145346",
     "exception": false,
     "start_time": "2024-03-31T18:52:38.105958",
     "status": "completed"
    },
    "tags": []
   },
   "outputs": [
    {
     "data": {
      "text/plain": [
       "Time      0\n",
       "V1        0\n",
       "V2        0\n",
       "V3        0\n",
       "V4        0\n",
       "V5        0\n",
       "V6        0\n",
       "V7        0\n",
       "V8        0\n",
       "V9        0\n",
       "V10       0\n",
       "V11       0\n",
       "V12       0\n",
       "V13       0\n",
       "V14       0\n",
       "V15       0\n",
       "V16       0\n",
       "V17       0\n",
       "V18       0\n",
       "V19       0\n",
       "V20       0\n",
       "V21       0\n",
       "V22       0\n",
       "V23       0\n",
       "V24       0\n",
       "V25       0\n",
       "V26       0\n",
       "V27       0\n",
       "V28       0\n",
       "Amount    0\n",
       "Class     0\n",
       "dtype: int64"
      ]
     },
     "execution_count": 7,
     "metadata": {},
     "output_type": "execute_result"
    }
   ],
   "source": [
    "df.isnull().sum()"
   ]
  },
  {
   "cell_type": "code",
   "execution_count": 8,
   "id": "79a14200",
   "metadata": {
    "execution": {
     "iopub.execute_input": "2024-03-31T18:52:38.167827Z",
     "iopub.status.busy": "2024-03-31T18:52:38.167361Z",
     "iopub.status.idle": "2024-03-31T18:52:38.176744Z",
     "shell.execute_reply": "2024-03-31T18:52:38.175486Z"
    },
    "papermill": {
     "duration": 0.02371,
     "end_time": "2024-03-31T18:52:38.179278",
     "exception": false,
     "start_time": "2024-03-31T18:52:38.155568",
     "status": "completed"
    },
    "tags": []
   },
   "outputs": [
    {
     "data": {
      "text/plain": [
       "284784    0\n",
       "284785    0\n",
       "284786    0\n",
       "284787    0\n",
       "284788    0\n",
       "284789    0\n",
       "284790    0\n",
       "284791    0\n",
       "284792    0\n",
       "284793    0\n",
       "284794    0\n",
       "284795    0\n",
       "284796    0\n",
       "284797    0\n",
       "284798    0\n",
       "284799    0\n",
       "284800    0\n",
       "284801    0\n",
       "284802    0\n",
       "284803    0\n",
       "284804    0\n",
       "284805    0\n",
       "284806    0\n",
       "Name: Class, dtype: int64"
      ]
     },
     "execution_count": 8,
     "metadata": {},
     "output_type": "execute_result"
    }
   ],
   "source": [
    "df['Class'].tail(23)"
   ]
  },
  {
   "cell_type": "markdown",
   "id": "a561e855",
   "metadata": {
    "papermill": {
     "duration": 0.00925,
     "end_time": "2024-03-31T18:52:38.198388",
     "exception": false,
     "start_time": "2024-03-31T18:52:38.189138",
     "status": "completed"
    },
    "tags": []
   },
   "source": [
    "# Percentage of total no fraud transaction"
   ]
  },
  {
   "cell_type": "code",
   "execution_count": 9,
   "id": "023df89d",
   "metadata": {
    "execution": {
     "iopub.execute_input": "2024-03-31T18:52:38.219514Z",
     "iopub.status.busy": "2024-03-31T18:52:38.219082Z",
     "iopub.status.idle": "2024-03-31T18:52:39.791552Z",
     "shell.execute_reply": "2024-03-31T18:52:39.790329Z"
    },
    "papermill": {
     "duration": 1.586796,
     "end_time": "2024-03-31T18:52:39.794845",
     "exception": false,
     "start_time": "2024-03-31T18:52:38.208049",
     "status": "completed"
    },
    "tags": []
   },
   "outputs": [
    {
     "name": "stdout",
     "output_type": "stream",
     "text": [
      "284315\n",
      "percentage of total non fraud transactions= 99.82725143693798\n"
     ]
    }
   ],
   "source": [
    "nfcount = 0;\n",
    "notFraud = df['Class']\n",
    "for i in range(len(notFraud)):\n",
    "    if(notFraud[i] == 0):\n",
    "        nfcount = nfcount+1;\n",
    "print(nfcount)\n",
    "per_nf = (nfcount/len(notFraud))*100\n",
    "print('percentage of total non fraud transactions=',per_nf)"
   ]
  },
  {
   "cell_type": "markdown",
   "id": "7775061c",
   "metadata": {
    "papermill": {
     "duration": 0.009442,
     "end_time": "2024-03-31T18:52:39.814347",
     "exception": false,
     "start_time": "2024-03-31T18:52:39.804905",
     "status": "completed"
    },
    "tags": []
   },
   "source": [
    "# Percentage of total fraud transaction"
   ]
  },
  {
   "cell_type": "code",
   "execution_count": 10,
   "id": "e57ac716",
   "metadata": {
    "execution": {
     "iopub.execute_input": "2024-03-31T18:52:39.841644Z",
     "iopub.status.busy": "2024-03-31T18:52:39.840548Z",
     "iopub.status.idle": "2024-03-31T18:52:41.373466Z",
     "shell.execute_reply": "2024-03-31T18:52:41.371825Z"
    },
    "papermill": {
     "duration": 1.550975,
     "end_time": "2024-03-31T18:52:41.376474",
     "exception": false,
     "start_time": "2024-03-31T18:52:39.825499",
     "status": "completed"
    },
    "tags": []
   },
   "outputs": [
    {
     "name": "stdout",
     "output_type": "stream",
     "text": [
      "492\n",
      "percentage of total fraud transactions= 0.1727485630620034\n"
     ]
    }
   ],
   "source": [
    "fcount = 0;\n",
    "Fraud = df['Class']\n",
    "for i in range(len(Fraud)):\n",
    "    if(Fraud[i] == 1):\n",
    "        fcount = fcount+1;\n",
    "print(fcount)\n",
    "per_f = (fcount/len(Fraud))*100\n",
    "print('percentage of total fraud transactions=',per_f)"
   ]
  },
  {
   "cell_type": "code",
   "execution_count": 11,
   "id": "179e2d0e",
   "metadata": {
    "execution": {
     "iopub.execute_input": "2024-03-31T18:52:41.400104Z",
     "iopub.status.busy": "2024-03-31T18:52:41.399617Z",
     "iopub.status.idle": "2024-03-31T18:52:41.421067Z",
     "shell.execute_reply": "2024-03-31T18:52:41.419783Z"
    },
    "papermill": {
     "duration": 0.035876,
     "end_time": "2024-03-31T18:52:41.423519",
     "exception": false,
     "start_time": "2024-03-31T18:52:41.387643",
     "status": "completed"
    },
    "tags": []
   },
   "outputs": [
    {
     "data": {
      "text/html": [
       "<div>\n",
       "<style scoped>\n",
       "    .dataframe tbody tr th:only-of-type {\n",
       "        vertical-align: middle;\n",
       "    }\n",
       "\n",
       "    .dataframe tbody tr th {\n",
       "        vertical-align: top;\n",
       "    }\n",
       "\n",
       "    .dataframe thead th {\n",
       "        text-align: right;\n",
       "    }\n",
       "</style>\n",
       "<table border=\"1\" class=\"dataframe\">\n",
       "  <thead>\n",
       "    <tr style=\"text-align: right;\">\n",
       "      <th></th>\n",
       "      <th>Fraud Transaction</th>\n",
       "      <th>Genuine Transaction</th>\n",
       "    </tr>\n",
       "  </thead>\n",
       "  <tbody>\n",
       "    <tr>\n",
       "      <th>0</th>\n",
       "      <td>0</td>\n",
       "      <td>0</td>\n",
       "    </tr>\n",
       "    <tr>\n",
       "      <th>1</th>\n",
       "      <td>0</td>\n",
       "      <td>0</td>\n",
       "    </tr>\n",
       "    <tr>\n",
       "      <th>2</th>\n",
       "      <td>0</td>\n",
       "      <td>0</td>\n",
       "    </tr>\n",
       "    <tr>\n",
       "      <th>3</th>\n",
       "      <td>0</td>\n",
       "      <td>0</td>\n",
       "    </tr>\n",
       "    <tr>\n",
       "      <th>4</th>\n",
       "      <td>0</td>\n",
       "      <td>0</td>\n",
       "    </tr>\n",
       "    <tr>\n",
       "      <th>...</th>\n",
       "      <td>...</td>\n",
       "      <td>...</td>\n",
       "    </tr>\n",
       "    <tr>\n",
       "      <th>284802</th>\n",
       "      <td>0</td>\n",
       "      <td>0</td>\n",
       "    </tr>\n",
       "    <tr>\n",
       "      <th>284803</th>\n",
       "      <td>0</td>\n",
       "      <td>0</td>\n",
       "    </tr>\n",
       "    <tr>\n",
       "      <th>284804</th>\n",
       "      <td>0</td>\n",
       "      <td>0</td>\n",
       "    </tr>\n",
       "    <tr>\n",
       "      <th>284805</th>\n",
       "      <td>0</td>\n",
       "      <td>0</td>\n",
       "    </tr>\n",
       "    <tr>\n",
       "      <th>284806</th>\n",
       "      <td>0</td>\n",
       "      <td>0</td>\n",
       "    </tr>\n",
       "  </tbody>\n",
       "</table>\n",
       "<p>284807 rows × 2 columns</p>\n",
       "</div>"
      ],
      "text/plain": [
       "        Fraud Transaction  Genuine Transaction\n",
       "0                       0                    0\n",
       "1                       0                    0\n",
       "2                       0                    0\n",
       "3                       0                    0\n",
       "4                       0                    0\n",
       "...                   ...                  ...\n",
       "284802                  0                    0\n",
       "284803                  0                    0\n",
       "284804                  0                    0\n",
       "284805                  0                    0\n",
       "284806                  0                    0\n",
       "\n",
       "[284807 rows x 2 columns]"
      ]
     },
     "execution_count": 11,
     "metadata": {},
     "output_type": "execute_result"
    }
   ],
   "source": [
    "plot_data = pd.DataFrame()\n",
    "plot_data['Fraud Transaction'] = Fraud\n",
    "plot_data['Genuine Transaction'] = notFraud\n",
    "plot_data"
   ]
  },
  {
   "cell_type": "code",
   "execution_count": 12,
   "id": "af6306c7",
   "metadata": {
    "execution": {
     "iopub.execute_input": "2024-03-31T18:52:41.446919Z",
     "iopub.status.busy": "2024-03-31T18:52:41.446478Z",
     "iopub.status.idle": "2024-03-31T18:52:45.549323Z",
     "shell.execute_reply": "2024-03-31T18:52:45.547973Z"
    },
    "papermill": {
     "duration": 4.117629,
     "end_time": "2024-03-31T18:52:45.552369",
     "exception": false,
     "start_time": "2024-03-31T18:52:41.434740",
     "status": "completed"
    },
    "tags": []
   },
   "outputs": [
    {
     "data": {
      "image/png": "[encoded data removed]",
      "text/plain": [
       "<Figure size 640x480 with 1 Axes>"
      ]
     },
     "metadata": {},
     "output_type": "display_data"
    }
   ],
   "source": [
    "plt.title(\"Bar plot for Fraud vs Genuine Transaction\")\n",
    "sns.barplot(x= 'Fraud Transaction', y= 'Genuine Transaction',data = plot_data, palette='Blues',edgecolor ='w')\n",
    "plt.show()"
   ]
  },
  {
   "cell_type": "code",
   "execution_count": 13,
   "id": "28e3c9ab",
   "metadata": {
    "execution": {
     "iopub.execute_input": "2024-03-31T18:52:45.577357Z",
     "iopub.status.busy": "2024-03-31T18:52:45.576391Z",
     "iopub.status.idle": "2024-03-31T18:52:45.883442Z",
     "shell.execute_reply": "2024-03-31T18:52:45.880354Z"
    },
    "papermill": {
     "duration": 0.322744,
     "end_time": "2024-03-31T18:52:45.886576",
     "exception": false,
     "start_time": "2024-03-31T18:52:45.563832",
     "status": "completed"
    },
    "tags": []
   },
   "outputs": [
    {
     "data": {
      "image/png": "[encoded data removed]",
      "text/plain": [
       "<Figure size 640x480 with 1 Axes>"
      ]
     },
     "metadata": {},
     "output_type": "display_data"
    }
   ],
   "source": [
    "x = df['Amount']\n",
    "y = df['Time']\n",
    "plt.plot(x,y)\n",
    "plt.title(\"Time vs amount\")\n",
    "plt.xlabel('Amount')\n",
    "plt.ylabel('Time in ms')\n",
    "plt.show()"
   ]
  },
  {
   "cell_type": "markdown",
   "id": "b7c6d869",
   "metadata": {
    "papermill": {
     "duration": 0.010966,
     "end_time": "2024-03-31T18:52:45.909248",
     "exception": false,
     "start_time": "2024-03-31T18:52:45.898282",
     "status": "completed"
    },
    "tags": []
   },
   "source": [
    "# Outliers"
   ]
  },
  {
   "cell_type": "code",
   "execution_count": 14,
   "id": "e392fb73",
   "metadata": {
    "execution": {
     "iopub.execute_input": "2024-03-31T18:52:45.935751Z",
     "iopub.status.busy": "2024-03-31T18:52:45.934204Z",
     "iopub.status.idle": "2024-03-31T18:52:46.771987Z",
     "shell.execute_reply": "2024-03-31T18:52:46.770455Z"
    },
    "papermill": {
     "duration": 0.854519,
     "end_time": "2024-03-31T18:52:46.775061",
     "exception": false,
     "start_time": "2024-03-31T18:52:45.920542",
     "status": "completed"
    },
    "tags": []
   },
   "outputs": [
    {
     "data": {
      "image/png": "[encoded data removed]",
      "text/plain": [
       "<Figure size 800x700 with 1 Axes>"
      ]
     },
     "metadata": {},
     "output_type": "display_data"
    }
   ],
   "source": [
    "fig , ax =plt.subplots(figsize=(8,7))\n",
    "ax.scatter(df['Amount'],df['Time'])\n",
    "ax.set_xlabel('Amount')\n",
    "ax.set_ylabel('Time')\n",
    "plt.show()"
   ]
  },
  {
   "cell_type": "code",
   "execution_count": 15,
   "id": "abafd5f0",
   "metadata": {
    "execution": {
     "iopub.execute_input": "2024-03-31T18:52:46.802242Z",
     "iopub.status.busy": "2024-03-31T18:52:46.801756Z",
     "iopub.status.idle": "2024-03-31T18:52:48.180618Z",
     "shell.execute_reply": "2024-03-31T18:52:48.179009Z"
    },
    "papermill": {
     "duration": 1.396647,
     "end_time": "2024-03-31T18:52:48.184043",
     "exception": false,
     "start_time": "2024-03-31T18:52:46.787396",
     "status": "completed"
    },
    "tags": []
   },
   "outputs": [
    {
     "data": {
      "image/png": "[encoded data removed]",
      "text/plain": [
       "<Figure size 600x800 with 2 Axes>"
      ]
     },
     "metadata": {},
     "output_type": "display_data"
    }
   ],
   "source": [
    "# correlation matrix\n",
    "matrix = df.corr()\n",
    "fig = plt.figure(figsize=(6,8))\n",
    "sns.heatmap(matrix, vmax = .9, square =True)\n",
    "plt.show()"
   ]
  },
  {
   "cell_type": "code",
   "execution_count": 16,
   "id": "ef5c65f4",
   "metadata": {
    "execution": {
     "iopub.execute_input": "2024-03-31T18:52:48.211464Z",
     "iopub.status.busy": "2024-03-31T18:52:48.211054Z",
     "iopub.status.idle": "2024-03-31T18:52:48.351481Z",
     "shell.execute_reply": "2024-03-31T18:52:48.350061Z"
    },
    "papermill": {
     "duration": 0.157636,
     "end_time": "2024-03-31T18:52:48.354530",
     "exception": false,
     "start_time": "2024-03-31T18:52:48.196894",
     "status": "completed"
    },
    "tags": []
   },
   "outputs": [],
   "source": [
    "x = df.drop(['Class'],axis=1)\n",
    "y = df['Class']\n",
    "x_train,x_test,y_train,y_test = train_test_split(x,y,test_size=0.2,random_state=42)"
   ]
  },
  {
   "cell_type": "code",
   "execution_count": 17,
   "id": "048e6730",
   "metadata": {
    "execution": {
     "iopub.execute_input": "2024-03-31T18:52:48.382147Z",
     "iopub.status.busy": "2024-03-31T18:52:48.381670Z",
     "iopub.status.idle": "2024-03-31T18:52:53.693274Z",
     "shell.execute_reply": "2024-03-31T18:52:53.691902Z"
    },
    "papermill": {
     "duration": 5.332766,
     "end_time": "2024-03-31T18:52:53.700226",
     "exception": false,
     "start_time": "2024-03-31T18:52:48.367460",
     "status": "completed"
    },
    "tags": []
   },
   "outputs": [
    {
     "name": "stderr",
     "output_type": "stream",
     "text": [
      "/opt/conda/lib/python3.10/site-packages/sklearn/linear_model/_logistic.py:458: ConvergenceWarning: lbfgs failed to converge (status=1):\n",
      "STOP: TOTAL NO. of ITERATIONS REACHED LIMIT.\n",
      "\n",
      "Increase the number of iterations (max_iter) or scale the data as shown in:\n",
      "    https://scikit-learn.org/stable/modules/preprocessing.html\n",
      "Please also refer to the documentation for alternative solver options:\n",
      "    https://scikit-learn.org/stable/modules/linear_model.html#logistic-regression\n",
      "  n_iter_i = _check_optimize_result(\n"
     ]
    },
    {
     "data": {
      "text/html": [
       "<style>#sk-container-id-1 {color: black;background-color: white;}#sk-container-id-1 pre{padding: 0;}#sk-container-id-1 div.sk-toggleable {background-color: white;}#sk-container-id-1 label.sk-toggleable__label {cursor: pointer;display: block;width: 100%;margin-bottom: 0;padding: 0.3em;box-sizing: border-box;text-align: center;}#sk-container-id-1 label.sk-toggleable__label-arrow:before {content: \"▸\";float: left;margin-right: 0.25em;color: #696969;}#sk-container-id-1 label.sk-toggleable__label-arrow:hover:before {color: black;}#sk-container-id-1 div.sk-estimator:hover label.sk-toggleable__label-arrow:before {color: black;}#sk-container-id-1 div.sk-toggleable__content {max-height: 0;max-width: 0;overflow: hidden;text-align: left;background-color: #f0f8ff;}#sk-container-id-1 div.sk-toggleable__content pre {margin: 0.2em;color: black;border-radius: 0.25em;background-color: #f0f8ff;}#sk-container-id-1 input.sk-toggleable__control:checked~div.sk-toggleable__content {max-height: 200px;max-width: 100%;overflow: auto;}#sk-container-id-1 input.sk-toggleable__control:checked~label.sk-toggleable__label-arrow:before {content: \"▾\";}#sk-container-id-1 div.sk-estimator input.sk-toggleable__control:checked~label.sk-toggleable__label {background-color: #d4ebff;}#sk-container-id-1 div.sk-label input.sk-toggleable__control:checked~label.sk-toggleable__label {background-color: #d4ebff;}#sk-container-id-1 input.sk-hidden--visually {border: 0;clip: rect(1px 1px 1px 1px);clip: rect(1px, 1px, 1px, 1px);height: 1px;margin: -1px;overflow: hidden;padding: 0;position: absolute;width: 1px;}#sk-container-id-1 div.sk-estimator {font-family: monospace;background-color: #f0f8ff;border: 1px dotted black;border-radius: 0.25em;box-sizing: border-box;margin-bottom: 0.5em;}#sk-container-id-1 div.sk-estimator:hover {background-color: #d4ebff;}#sk-container-id-1 div.sk-parallel-item::after {content: \"\";width: 100%;border-bottom: 1px solid gray;flex-grow: 1;}#sk-container-id-1 div.sk-label:hover label.sk-toggleable__label {background-color: #d4ebff;}#sk-container-id-1 div.sk-serial::before {content: \"\";position: absolute;border-left: 1px solid gray;box-sizing: border-box;top: 0;bottom: 0;left: 50%;z-index: 0;}#sk-container-id-1 div.sk-serial {display: flex;flex-direction: column;align-items: center;background-color: white;padding-right: 0.2em;padding-left: 0.2em;position: relative;}#sk-container-id-1 div.sk-item {position: relative;z-index: 1;}#sk-container-id-1 div.sk-parallel {display: flex;align-items: stretch;justify-content: center;background-color: white;position: relative;}#sk-container-id-1 div.sk-item::before, #sk-container-id-1 div.sk-parallel-item::before {content: \"\";position: absolute;border-left: 1px solid gray;box-sizing: border-box;top: 0;bottom: 0;left: 50%;z-index: -1;}#sk-container-id-1 div.sk-parallel-item {display: flex;flex-direction: column;z-index: 1;position: relative;background-color: white;}#sk-container-id-1 div.sk-parallel-item:first-child::after {align-self: flex-end;width: 50%;}#sk-container-id-1 div.sk-parallel-item:last-child::after {align-self: flex-start;width: 50%;}#sk-container-id-1 div.sk-parallel-item:only-child::after {width: 0;}#sk-container-id-1 div.sk-dashed-wrapped {border: 1px dashed gray;margin: 0 0.4em 0.5em 0.4em;box-sizing: border-box;padding-bottom: 0.4em;background-color: white;}#sk-container-id-1 div.sk-label label {font-family: monospace;font-weight: bold;display: inline-block;line-height: 1.2em;}#sk-container-id-1 div.sk-label-container {text-align: center;}#sk-container-id-1 div.sk-container {/* jupyter's `normalize.less` sets `[hidden] { display: none; }` but bootstrap.min.css set `[hidden] { display: none !important; }` so we also need the `!important` here to be able to override the default hidden behavior on the sphinx rendered scikit-learn.org. See: https://github.com/scikit-learn/scikit-learn/issues/21755 */display: inline-block !important;position: relative;}#sk-container-id-1 div.sk-text-repr-fallback {display: none;}</style><div id=\"sk-container-id-1\" class=\"sk-top-container\"><div class=\"sk-text-repr-fallback\"><pre>LogisticRegression()</pre><b>In a Jupyter environment, please rerun this cell to show the HTML representation or trust the notebook. <br />On GitHub, the HTML representation is unable to render, please try loading this page with nbviewer.org.</b></div><div class=\"sk-container\" hidden><div class=\"sk-item\"><div class=\"sk-estimator sk-toggleable\"><input class=\"sk-toggleable__control sk-hidden--visually\" id=\"sk-estimator-id-1\" type=\"checkbox\" checked><label for=\"sk-estimator-id-1\" class=\"sk-toggleable__label sk-toggleable__label-arrow\">LogisticRegression</label><div class=\"sk-toggleable__content\"><pre>LogisticRegression()</pre></div></div></div></div></div>"
      ],
      "text/plain": [
       "LogisticRegression()"
      ]
     },
     "execution_count": 17,
     "metadata": {},
     "output_type": "execute_result"
    }
   ],
   "source": [
    "logistic = LogisticRegression()\n",
    "logistic.fit(x_train,y_train)"
   ]
  },
  {
   "cell_type": "code",
   "execution_count": 18,
   "id": "78dc248e",
   "metadata": {
    "execution": {
     "iopub.execute_input": "2024-03-31T18:52:53.760376Z",
     "iopub.status.busy": "2024-03-31T18:52:53.758764Z",
     "iopub.status.idle": "2024-03-31T18:52:53.795906Z",
     "shell.execute_reply": "2024-03-31T18:52:53.793914Z"
    },
    "papermill": {
     "duration": 0.07286,
     "end_time": "2024-03-31T18:52:53.801281",
     "exception": false,
     "start_time": "2024-03-31T18:52:53.728421",
     "status": "completed"
    },
    "tags": []
   },
   "outputs": [],
   "source": [
    "y_pred = logistic.predict(x_test)\n",
    "accuracy = logistic.score(x_test,y_test)"
   ]
  },
  {
   "cell_type": "code",
   "execution_count": 19,
   "id": "29b27066",
   "metadata": {
    "execution": {
     "iopub.execute_input": "2024-03-31T18:52:53.863927Z",
     "iopub.status.busy": "2024-03-31T18:52:53.861768Z",
     "iopub.status.idle": "2024-03-31T18:52:53.880502Z",
     "shell.execute_reply": "2024-03-31T18:52:53.878900Z"
    },
    "papermill": {
     "duration": 0.054943,
     "end_time": "2024-03-31T18:52:53.885573",
     "exception": false,
     "start_time": "2024-03-31T18:52:53.830630",
     "status": "completed"
    },
    "tags": []
   },
   "outputs": [
    {
     "data": {
      "text/plain": [
       "array([1, 0, 0, ..., 0, 0, 0])"
      ]
     },
     "execution_count": 19,
     "metadata": {},
     "output_type": "execute_result"
    }
   ],
   "source": [
    "y_pred"
   ]
  },
  {
   "cell_type": "code",
   "execution_count": 20,
   "id": "5ea948e1",
   "metadata": {
    "execution": {
     "iopub.execute_input": "2024-03-31T18:52:53.920572Z",
     "iopub.status.busy": "2024-03-31T18:52:53.920216Z",
     "iopub.status.idle": "2024-03-31T18:52:53.926105Z",
     "shell.execute_reply": "2024-03-31T18:52:53.924984Z"
    },
    "papermill": {
     "duration": 0.022532,
     "end_time": "2024-03-31T18:52:53.928906",
     "exception": false,
     "start_time": "2024-03-31T18:52:53.906374",
     "status": "completed"
    },
    "tags": []
   },
   "outputs": [
    {
     "name": "stdout",
     "output_type": "stream",
     "text": [
      "Accuracy score is: 99.89817773252344\n"
     ]
    }
   ],
   "source": [
    "print(\"Accuracy score is:\", accuracy * 100)"
   ]
  },
  {
   "cell_type": "code",
   "execution_count": null,
   "id": "b6cebbf3",
   "metadata": {
    "papermill": {
     "duration": 0.012844,
     "end_time": "2024-03-31T18:52:53.955342",
     "exception": false,
     "start_time": "2024-03-31T18:52:53.942498",
     "status": "completed"
    },
    "tags": []
   },
   "outputs": [],
   "source": []
  }
 ],
 "metadata": {
  "kaggle": {
   "accelerator": "none",
   "dataSources": [
    {
     "datasetId": 465237,
     "sourceId": 873919,
     "sourceType": "datasetVersion"
    }
   ],
   "dockerImageVersionId": 30646,
   "isGpuEnabled": false,
   "isInternetEnabled": false,
   "language": "python",
   "sourceType": "notebook"
  },
  "kernelspec": {
   "display_name": "Python 3",
   "language": "python",
   "name": "python3"
  },
  "language_info": {
   "codemirror_mode": {
    "name": "ipython",
    "version": 3
   },
   "file_extension": ".py",
   "mimetype": "text/x-python",
   "name": "python",
   "nbconvert_exporter": "python",
   "pygments_lexer": "ipython3",
   "version": "3.10.13"
  },
  "papermill": {
   "default_parameters": {},
   "duration": 27.97089,
   "end_time": "2024-03-31T18:52:54.691793",
   "environment_variables": {},
   "exception": null,
   "input_path": "__notebook__.ipynb",
   "output_path": "__notebook__.ipynb",
   "parameters": {},
   "start_time": "2024-03-31T18:52:26.720903",
   "version": "2.5.0"
  }
 },
 "nbformat": 4,
 "nbformat_minor": 5
}
